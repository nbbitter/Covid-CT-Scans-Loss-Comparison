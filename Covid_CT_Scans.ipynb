{
 "cells": [
  {
   "cell_type": "code",
   "execution_count": null,
   "metadata": {
    "id": "IoPm_5FKL-iC"
   },
   "outputs": [],
   "source": [
    "import torch\n",
    "import torch.nn as nn\n",
    "import torchvision\n",
    "import torch.nn.functional as F\n",
    "from torch.autograd import Variable\n",
    "import torchvision.transforms as T\n",
    "from PIL import Image\n",
    "import numpy as np\n",
    "import matplotlib.pyplot as plt\n",
    "import os\n",
    "import pandas as pd\n",
    "import torch\n",
    "import torchvision\n",
    "import matplotlib.pyplot as plt\n",
    "import matplotlib.image as mpimg\n",
    "import pathlib\n",
    "from sklearn.model_selection import train_test_split\n",
    "import torch.utils.data as data_utils\n",
    "import torch.optim as optim\n",
    "from torch.utils.data import Dataset, DataLoader\n",
    "from sklearn.metrics import roc_auc_score\n",
    "from sklearn.model_selection import KFold\n",
    "\n",
    "import cv2\n",
    "%matplotlib inline\n",
    "\n",
    "dtype = torch.cuda.FloatTensor "
   ]
  },
  {
   "cell_type": "code",
   "execution_count": null,
   "metadata": {
    "colab": {
     "base_uri": "https://localhost:8080/"
    },
    "id": "IfbgoHRKM6vB",
    "outputId": "29bbbd28-e701-49c1-b4a5-79d51b1a5ee1"
   },
   "outputs": [
    {
     "name": "stdout",
     "output_type": "stream",
     "text": [
      "Mounted at /content/gdrive\n"
     ]
    }
   ],
   "source": [
    "# data downloaded via the kaggle API, moving folders into google drive\n",
    "\n",
    "from google.colab import drive\n",
    "drive.mount('/content/gdrive', force_remount=True)"
   ]
  },
  {
   "cell_type": "code",
   "execution_count": null,
   "metadata": {
    "colab": {
     "base_uri": "https://localhost:8080/"
    },
    "id": "XZoqIH2cOLEN",
    "outputId": "036ec859-9945-42db-a60b-e4dc0d4995d0"
   },
   "outputs": [
    {
     "name": "stdout",
     "output_type": "stream",
     "text": [
      "/content/gdrive/My Drive/Kaggle\n"
     ]
    }
   ],
   "source": [
    "os.environ['KAGGLE_CONFIG_DIR'] = \"/content/gdrive/My Drive/Kaggle\"\n",
    "%cd /content/gdrive/My Drive/Kaggle"
   ]
  },
  {
   "cell_type": "code",
   "execution_count": null,
   "metadata": {
    "colab": {
     "base_uri": "https://localhost:8080/"
    },
    "id": "znb5hOd0RCAJ",
    "outputId": "567b2693-3e59-4bb3-e8c0-85a0a51b75a5"
   },
   "outputs": [
    {
     "name": "stdout",
     "output_type": "stream",
     "text": [
      "Downloading covidct.zip to /content/gdrive/My Drive/Kaggle\n",
      " 85% 73.0M/85.8M [00:00<00:00, 65.8MB/s]\n",
      "100% 85.8M/85.8M [00:00<00:00, 98.3MB/s]\n"
     ]
    }
   ],
   "source": [
    "!kaggle datasets download -d luisblanche/covidct"
   ]
  },
  {
   "cell_type": "code",
   "execution_count": null,
   "metadata": {
    "colab": {
     "base_uri": "https://localhost:8080/"
    },
    "id": "DiKdyktzRU-q",
    "outputId": "963a858c-c2ee-4719-df07-4e8e0d501ca1"
   },
   "outputs": [
    {
     "name": "stdout",
     "output_type": "stream",
     "text": [
      "Archive:  covidct.zip\n",
      "replace COVID-CT-MetaInfo.xlsx? [y]es, [n]o, [A]ll, [N]one, [r]ename: N\n"
     ]
    }
   ],
   "source": [
    "# unzip data and remove the zip file, now have COVID CT, NonCOVID CT, MetaData\n",
    "!unzip \\*.zip  && rm *.zip "
   ]
  },
  {
   "cell_type": "code",
   "execution_count": null,
   "metadata": {
    "colab": {
     "base_uri": "https://localhost:8080/"
    },
    "id": "kCfmjyHBct17",
    "outputId": "cab2f3db-27ff-4a9c-a383-ae0b0fff94da"
   },
   "outputs": [
    {
     "name": "stdout",
     "output_type": "stream",
     "text": [
      "COVID-CT-MetaInfo.xlsx\tCT_COVID  CT_NonCOVID  kaggle.json\n"
     ]
    }
   ],
   "source": [
    "!ls"
   ]
  },
  {
   "cell_type": "code",
   "execution_count": null,
   "metadata": {
    "id": "RTrVsX48SWZe"
   },
   "outputs": [],
   "source": [
    "# take all images (.jpg and .png) and create tensor for pytorch models\n",
    "\n",
    "# https://pytorch.org/docs/stable/torchvision/models.html <- link to eventually find the pre-built models\n",
    "\n",
    "# probably graph them together in one plot to see their differences"
   ]
  },
  {
   "cell_type": "markdown",
   "metadata": {
    "id": "jLwtAE28KrRK"
   },
   "source": [
    "**1. Raw Data description**\n",
    "\n",
    "- Raw CT scans are 3 dimensionsal X-rays represented as a 3d array of single-channel data. \n",
    "- CT scans retain 3rd dimension in data while X rays have only 2 dimensions.\n",
    " CT scan is done in a bounding box X,Y,Z\n",
    "- Each Voxel of a CT scan has a numeric value that roughly corresponds to the average mass density of the matter contained inside it\n",
    "\n",
    "- The raw unit of measurement in CT scans is the Hounsfield Unit (HU), which is a measure of radiodensity. CT scanners are carefully calibrated to accurately measure this. -1000 HU (air), 0 HU (water), bone 1000+ HU\n",
    "\n",
    "- However, all our data is png, jpg format\n",
    "\n",
    "- Coronavirus infections are distinguished by lung abnormalities associated with hazy patches in the scans indicating pnuemonia is present, where healthy lungs are clear with visible white bronchi branching out"
   ]
  },
  {
   "cell_type": "markdown",
   "metadata": {
    "id": "oCC4vyYKM7fJ"
   },
   "source": [
    "**2. Pre-Processing**"
   ]
  },
  {
   "cell_type": "code",
   "execution_count": null,
   "metadata": {
    "colab": {
     "base_uri": "https://localhost:8080/"
    },
    "id": "-xzBfkfSi3pE",
    "outputId": "1a78e611-69a9-4f93-87e9-ceee9314d38d"
   },
   "outputs": [
    {
     "name": "stdout",
     "output_type": "stream",
     "text": [
      "/content/gdrive/My Drive/Kaggle\n"
     ]
    }
   ],
   "source": [
    "%cd /content/gdrive/My Drive/Kaggle"
   ]
  },
  {
   "cell_type": "code",
   "execution_count": null,
   "metadata": {
    "colab": {
     "base_uri": "https://localhost:8080/",
     "height": 204
    },
    "id": "_ppOGUkePhkB",
    "outputId": "8022d67f-9a8d-4e22-96b4-ad1cab1f94d4"
   },
   "outputs": [
    {
     "data": {
      "text/html": [
       "<div>\n",
       "<style scoped>\n",
       "    .dataframe tbody tr th:only-of-type {\n",
       "        vertical-align: middle;\n",
       "    }\n",
       "\n",
       "    .dataframe tbody tr th {\n",
       "        vertical-align: top;\n",
       "    }\n",
       "\n",
       "    .dataframe thead th {\n",
       "        text-align: right;\n",
       "    }\n",
       "</style>\n",
       "<table border=\"1\" class=\"dataframe\">\n",
       "  <thead>\n",
       "    <tr style=\"text-align: right;\">\n",
       "      <th></th>\n",
       "      <th>Image</th>\n",
       "      <th>Patient</th>\n",
       "      <th>DoiLink</th>\n",
       "      <th>Description</th>\n",
       "    </tr>\n",
       "  </thead>\n",
       "  <tbody>\n",
       "    <tr>\n",
       "      <th>0</th>\n",
       "      <td>2020.01.24.919183-p27-133.png</td>\n",
       "      <td>Patient 1</td>\n",
       "      <td>NaN</td>\n",
       "      <td>['Figure 1. Chest radiographs of patient 1. a....</td>\n",
       "    </tr>\n",
       "    <tr>\n",
       "      <th>1</th>\n",
       "      <td>2020.01.24.919183-p27-134.png</td>\n",
       "      <td>Patient 1</td>\n",
       "      <td>NaN</td>\n",
       "      <td>['Figure 1. Chest radiographs of patient 1. a....</td>\n",
       "    </tr>\n",
       "    <tr>\n",
       "      <th>2</th>\n",
       "      <td>2020.01.24.919183-p27-135.png</td>\n",
       "      <td>Patient 1</td>\n",
       "      <td>NaN</td>\n",
       "      <td>['Figure 1. Chest radiographs of patient 1. a....</td>\n",
       "    </tr>\n",
       "    <tr>\n",
       "      <th>3</th>\n",
       "      <td>2020.02.10.20021584-p6-52%0.png</td>\n",
       "      <td>Patient 2</td>\n",
       "      <td>NaN</td>\n",
       "      <td>['Figure 1. A 50-year-old man with 2019 novel ...</td>\n",
       "    </tr>\n",
       "    <tr>\n",
       "      <th>4</th>\n",
       "      <td>2020.02.10.20021584-p6-52%1.png</td>\n",
       "      <td>Patient 2</td>\n",
       "      <td>NaN</td>\n",
       "      <td>['Figure 1. A 50-year-old man with 2019 novel ...</td>\n",
       "    </tr>\n",
       "  </tbody>\n",
       "</table>\n",
       "</div>"
      ],
      "text/plain": [
       "                             Image  ...                                        Description\n",
       "0    2020.01.24.919183-p27-133.png  ...  ['Figure 1. Chest radiographs of patient 1. a....\n",
       "1    2020.01.24.919183-p27-134.png  ...  ['Figure 1. Chest radiographs of patient 1. a....\n",
       "2    2020.01.24.919183-p27-135.png  ...  ['Figure 1. Chest radiographs of patient 1. a....\n",
       "3  2020.02.10.20021584-p6-52%0.png  ...  ['Figure 1. A 50-year-old man with 2019 novel ...\n",
       "4  2020.02.10.20021584-p6-52%1.png  ...  ['Figure 1. A 50-year-old man with 2019 novel ...\n",
       "\n",
       "[5 rows x 4 columns]"
      ]
     },
     "execution_count": 4,
     "metadata": {
      "tags": []
     },
     "output_type": "execute_result"
    }
   ],
   "source": [
    "## Organizing Meta data\n",
    "MetaData=pd.read_excel(\"COVID-CT-MetaInfo.xlsx\",names=['Image','Patient','DoiLink','Description'])\n",
    "MetaData.head()"
   ]
  },
  {
   "cell_type": "code",
   "execution_count": null,
   "metadata": {
    "id": "tLsGNpPBb_rY"
   },
   "outputs": [],
   "source": [
    "## visualizing the images\n",
    "def Plot_Image(im,covid):\n",
    "  #im is a number that is less than the length of the directory, covid T/F whether to plot covid patients\n",
    "  if covid:\n",
    "    dir=str(pathlib.Path().absolute())+str('/CT_COVID/')+str(os.listdir('CT_COVID/')[im])\n",
    "    img=Image.open(dir)\n",
    "    plt.imshow(img)\n",
    "    plt.title('COVID Patient')\n",
    "  else:\n",
    "    dir=str(pathlib.Path().absolute())+str('/CT_NonCOVID/')+str(os.listdir('CT_NonCOVID/')[im])\n",
    "    img=Image.open(dir)\n",
    "    plt.imshow(img)\n",
    "    plt.title(\"Non Covid Patient\")"
   ]
  },
  {
   "cell_type": "code",
   "execution_count": null,
   "metadata": {
    "colab": {
     "base_uri": "https://localhost:8080/",
     "height": 190
    },
    "id": "Nt9ZKXsvgz4V",
    "outputId": "fb7b1bd6-4d8b-4c78-ad8f-8452fbb0ef4d"
   },
   "outputs": [
    {
     "data": {
      "image/png": "[encoded data removed]",
      "text/plain": [
       "<Figure size 936x720 with 4 Axes>"
      ]
     },
     "metadata": {
      "needs_background": "light",
      "tags": []
     },
     "output_type": "display_data"
    }
   ],
   "source": [
    "f = plt.figure(figsize=(13, 10))\n",
    "f.add_subplot(1, 4, 1)\n",
    "Plot_Image(35,False)\n",
    "f.add_subplot(1,4, 2)\n",
    "Plot_Image(34,False)\n",
    "f.add_subplot(1,4, 3)\n",
    "Plot_Image(18,True)\n",
    "f.add_subplot(1,4, 4)\n",
    "Plot_Image(54,True)\n",
    "### the images are not necessarily all the same size"
   ]
  },
  {
   "cell_type": "code",
   "execution_count": null,
   "metadata": {
    "id": "ncyMLmif9zan"
   },
   "outputs": [],
   "source": [
    "dimensions = []\n",
    "for p in os.listdir('CT_COVID/'):\n",
    "  img=str(pathlib.Path().absolute())+str('/CT_COVID/')+p\n",
    "  img= cv2.imread(img)\n",
    "  dimensions.append({'Width': img.shape[:-1][0],'Height': img.shape[:-1][1],})\n",
    "dimensions=pd.DataFrame(dimensions)\n",
    "dimensions2=[]\n",
    "for p in os.listdir('CT_NonCOVID/'):\n",
    "  img=str(pathlib.Path().absolute())+str('/CT_NonCOVID/')+p\n",
    "  img= cv2.imread(img)\n",
    "  dimensions2.append({'Width': img.shape[:-1][0],'Height': img.shape[:-1][1],})\n",
    "dimensions2=pd.DataFrame(dimensions2)\n",
    "\n",
    "### combining \n",
    "dimensions=pd.concat([dimensions,dimensions2])"
   ]
  },
  {
   "cell_type": "code",
   "execution_count": null,
   "metadata": {
    "colab": {
     "base_uri": "https://localhost:8080/",
     "height": 284
    },
    "id": "C_BmKpsNMuQj",
    "outputId": "09dd7806-a2a6-409f-ac3e-85ffc4483992"
   },
   "outputs": [
    {
     "data": {
      "text/html": [
       "<div>\n",
       "<style scoped>\n",
       "    .dataframe tbody tr th:only-of-type {\n",
       "        vertical-align: middle;\n",
       "    }\n",
       "\n",
       "    .dataframe tbody tr th {\n",
       "        vertical-align: top;\n",
       "    }\n",
       "\n",
       "    .dataframe thead th {\n",
       "        text-align: right;\n",
       "    }\n",
       "</style>\n",
       "<table border=\"1\" class=\"dataframe\">\n",
       "  <thead>\n",
       "    <tr style=\"text-align: right;\">\n",
       "      <th></th>\n",
       "      <th>Width</th>\n",
       "      <th>Height</th>\n",
       "    </tr>\n",
       "  </thead>\n",
       "  <tbody>\n",
       "    <tr>\n",
       "      <th>count</th>\n",
       "      <td>746.000000</td>\n",
       "      <td>746.000000</td>\n",
       "    </tr>\n",
       "    <tr>\n",
       "      <th>mean</th>\n",
       "      <td>302.553619</td>\n",
       "      <td>425.482574</td>\n",
       "    </tr>\n",
       "    <tr>\n",
       "      <th>std</th>\n",
       "      <td>145.210573</td>\n",
       "      <td>188.546038</td>\n",
       "    </tr>\n",
       "    <tr>\n",
       "      <th>min</th>\n",
       "      <td>61.000000</td>\n",
       "      <td>115.000000</td>\n",
       "    </tr>\n",
       "    <tr>\n",
       "      <th>25%</th>\n",
       "      <td>204.000000</td>\n",
       "      <td>311.250000</td>\n",
       "    </tr>\n",
       "    <tr>\n",
       "      <th>50%</th>\n",
       "      <td>291.000000</td>\n",
       "      <td>407.000000</td>\n",
       "    </tr>\n",
       "    <tr>\n",
       "      <th>75%</th>\n",
       "      <td>363.750000</td>\n",
       "      <td>512.000000</td>\n",
       "    </tr>\n",
       "    <tr>\n",
       "      <th>max</th>\n",
       "      <td>1225.000000</td>\n",
       "      <td>1671.000000</td>\n",
       "    </tr>\n",
       "  </tbody>\n",
       "</table>\n",
       "</div>"
      ],
      "text/plain": [
       "             Width       Height\n",
       "count   746.000000   746.000000\n",
       "mean    302.553619   425.482574\n",
       "std     145.210573   188.546038\n",
       "min      61.000000   115.000000\n",
       "25%     204.000000   311.250000\n",
       "50%     291.000000   407.000000\n",
       "75%     363.750000   512.000000\n",
       "max    1225.000000  1671.000000"
      ]
     },
     "execution_count": 12,
     "metadata": {
      "tags": []
     },
     "output_type": "execute_result"
    }
   ],
   "source": [
    "dimensions.describe()"
   ]
  },
  {
   "cell_type": "code",
   "execution_count": null,
   "metadata": {
    "colab": {
     "base_uri": "https://localhost:8080/",
     "height": 204
    },
    "id": "ohCN-qDcgY1r",
    "outputId": "bddf50e3-0644-4bae-982c-67682400f13f"
   },
   "outputs": [
    {
     "data": {
      "text/html": [
       "<div>\n",
       "<style scoped>\n",
       "    .dataframe tbody tr th:only-of-type {\n",
       "        vertical-align: middle;\n",
       "    }\n",
       "\n",
       "    .dataframe tbody tr th {\n",
       "        vertical-align: top;\n",
       "    }\n",
       "\n",
       "    .dataframe thead th {\n",
       "        text-align: right;\n",
       "    }\n",
       "</style>\n",
       "<table border=\"1\" class=\"dataframe\">\n",
       "  <thead>\n",
       "    <tr style=\"text-align: right;\">\n",
       "      <th></th>\n",
       "      <th>imgPath</th>\n",
       "      <th>Label</th>\n",
       "    </tr>\n",
       "  </thead>\n",
       "  <tbody>\n",
       "    <tr>\n",
       "      <th>0</th>\n",
       "      <td>/content/gdrive/My Drive/Kaggle/CT_COVID/2020....</td>\n",
       "      <td>1</td>\n",
       "    </tr>\n",
       "    <tr>\n",
       "      <th>1</th>\n",
       "      <td>/content/gdrive/My Drive/Kaggle/CT_COVID/2020....</td>\n",
       "      <td>1</td>\n",
       "    </tr>\n",
       "    <tr>\n",
       "      <th>2</th>\n",
       "      <td>/content/gdrive/My Drive/Kaggle/CT_COVID/2020....</td>\n",
       "      <td>1</td>\n",
       "    </tr>\n",
       "    <tr>\n",
       "      <th>3</th>\n",
       "      <td>/content/gdrive/My Drive/Kaggle/CT_COVID/2020....</td>\n",
       "      <td>1</td>\n",
       "    </tr>\n",
       "    <tr>\n",
       "      <th>4</th>\n",
       "      <td>/content/gdrive/My Drive/Kaggle/CT_COVID/2020....</td>\n",
       "      <td>1</td>\n",
       "    </tr>\n",
       "  </tbody>\n",
       "</table>\n",
       "</div>"
      ],
      "text/plain": [
       "                                             imgPath  Label\n",
       "0  /content/gdrive/My Drive/Kaggle/CT_COVID/2020....      1\n",
       "1  /content/gdrive/My Drive/Kaggle/CT_COVID/2020....      1\n",
       "2  /content/gdrive/My Drive/Kaggle/CT_COVID/2020....      1\n",
       "3  /content/gdrive/My Drive/Kaggle/CT_COVID/2020....      1\n",
       "4  /content/gdrive/My Drive/Kaggle/CT_COVID/2020....      1"
      ]
     },
     "execution_count": 5,
     "metadata": {
      "tags": []
     },
     "output_type": "execute_result"
    }
   ],
   "source": [
    "## Dataframe of labels and images including the full path to the image\n",
    "Covid_Cases=pd.DataFrame((os.listdir('CT_COVID')))\n",
    "Covid_Cases.columns=['imgPath']\n",
    "Covid_Cases['imgPath']=str(pathlib.Path().absolute())+str('/CT_COVID/')+Covid_Cases['imgPath']\n",
    "Covid_Cases['Label']=1\n",
    "Non_Covid=pd.DataFrame((os.listdir('CT_NonCOVID')))\n",
    "Non_Covid.columns=['imgPath']\n",
    "Non_Covid['imgPath']=str(pathlib.Path().absolute())+str('/CT_NonCOVID/')+Non_Covid['imgPath']\n",
    "Non_Covid['Label']=0\n",
    "# combining to one dataframe 0 for non covid 1 for covid\n",
    "Combined=pd.concat([Covid_Cases,Non_Covid],axis=0)\n",
    "Combined.head()"
   ]
  },
  {
   "cell_type": "code",
   "execution_count": null,
   "metadata": {
    "colab": {
     "base_uri": "https://localhost:8080/"
    },
    "id": "GuIFKmdWkYQc",
    "outputId": "6e0969fc-78de-4d98-f54c-4844a9961ad8"
   },
   "outputs": [
    {
     "data": {
      "text/plain": [
       "0    397\n",
       "1    349\n",
       "Name: Label, dtype: int64"
      ]
     },
     "execution_count": 6,
     "metadata": {
      "tags": []
     },
     "output_type": "execute_result"
    }
   ],
   "source": [
    "Combined['Label'].value_counts() # 1 for covid "
   ]
  },
  {
   "cell_type": "code",
   "execution_count": null,
   "metadata": {
    "colab": {
     "base_uri": "https://localhost:8080/"
    },
    "id": "Gj3DM1ixzEwC",
    "outputId": "fecd3245-adc5-40d2-fcbe-547b7d4ec1a0"
   },
   "outputs": [
    {
     "name": "stdout",
     "output_type": "stream",
     "text": [
      "torch.Size([3, 202, 287])\n",
      "torch.Size([3, 202, 287])\n"
     ]
    }
   ],
   "source": [
    "## checking some of the image readers\n",
    "to_tensor=T.ToTensor()\n",
    "print(to_tensor(cv2.imread(Combined.iloc[2,0])).size())\n",
    "print(to_tensor(Image.open(Combined.iloc[2,0]).convert(\"RGB\")).size()) ## .convert rgb to get same channels"
   ]
  },
  {
   "cell_type": "code",
   "execution_count": null,
   "metadata": {
    "colab": {
     "base_uri": "https://localhost:8080/"
    },
    "id": "mynQ_4Ch98Kj",
    "outputId": "d50ce4cd-2f5b-47d6-d9b3-ed8db93abccc"
   },
   "outputs": [
    {
     "name": "stdout",
     "output_type": "stream",
     "text": [
      "0    317\n",
      "1    279\n",
      "Name: Label, dtype: int64\n",
      "0    80\n",
      "1    70\n",
      "Name: Label, dtype: int64\n"
     ]
    }
   ],
   "source": [
    "## getting training and test data\n",
    "train, test = train_test_split(Combined, stratify=Combined['Label'], test_size=0.2 ,random_state=1)\n",
    "print(train['Label'].value_counts())\n",
    "print(test['Label'].value_counts())"
   ]
  },
  {
   "cell_type": "code",
   "execution_count": null,
   "metadata": {
    "id": "nS-pRcDGiuEd"
   },
   "outputs": [],
   "source": [
    "## pytorch preprocessing format with dataset \n",
    "class CTData(Dataset):\n",
    "    def __init__(self, data, transform = None):\n",
    "        super().__init__()\n",
    "        self.data = data.values\n",
    "        self.transform = transform\n",
    "    def __len__(self):\n",
    "        return len(self.data)\n",
    "    def __getitem__(self,index):\n",
    "        img,label = self.data[index]\n",
    "        image = Image.open(img).convert(\"RGB\")\n",
    "        label=torch.tensor(label)\n",
    "        if self.transform is not None:\n",
    "            image = self.transform(image)\n",
    "        return image, label"
   ]
  },
  {
   "cell_type": "code",
   "execution_count": null,
   "metadata": {
    "id": "kBQFCY6FomLn"
   },
   "outputs": [],
   "source": [
    "## transforms \n",
    "train_transform = T.Compose(\n",
    "        [\n",
    "            T.Resize((150, 150)),\n",
    "            T.RandomCrop((140, 140)),\n",
    "            T.ToTensor(),\n",
    "            T.Normalize((0.5, 0.5, 0.5), (0.5, 0.5, 0.5)),\n",
    "        ]\n",
    "    )\n",
    "test_transform = T.Compose(\n",
    "        [\n",
    "            T.Resize((150, 150)),\n",
    "            T.RandomCrop((140, 140)),\n",
    "            T.ToTensor(),\n",
    "            T.Normalize((0.5, 0.5, 0.5), (0.5, 0.5, 0.5)),\n",
    "        ]\n",
    "    )"
   ]
  },
  {
   "cell_type": "code",
   "execution_count": null,
   "metadata": {
    "id": "ANMCg55QsKpz"
   },
   "outputs": [],
   "source": [
    "## tranforming on train and test data \n",
    "train_data = CTData(train,train_transform )\n",
    "test_data=CTData(test,test_transform)"
   ]
  },
  {
   "cell_type": "code",
   "execution_count": null,
   "metadata": {
    "id": "VRKwewmVAUBS"
   },
   "outputs": [],
   "source": [
    "## using the DataLoader \n",
    "train_loader = DataLoader(dataset = train_data, batch_size = 25, shuffle=True)\n",
    "test_loader = DataLoader(dataset = test_data, batch_size = 25)"
   ]
  },
  {
   "cell_type": "code",
   "execution_count": null,
   "metadata": {
    "colab": {
     "base_uri": "https://localhost:8080/",
     "height": 219
    },
    "id": "uVnyBphyEEsc",
    "outputId": "a1dcdbf8-9410-460e-97c0-0aa45a9d7ae7"
   },
   "outputs": [
    {
     "data": {
      "image/png": "[encoded data removed]",
      "text/plain": [
       "<Figure size 432x288 with 1 Axes>"
      ]
     },
     "metadata": {
      "needs_background": "light",
      "tags": []
     },
     "output_type": "display_data"
    }
   ],
   "source": [
    "def imshow(img):\n",
    "    img = img / 2 + 0.5     # unnormalize\n",
    "    npimg = img.numpy()\n",
    "    plt.imshow(np.transpose(npimg, (1, 2, 0)))\n",
    "    plt.show()\n",
    "\n",
    "\n",
    "# get some random training images\n",
    "dataiter = iter(train_loader)\n",
    "images, labels = dataiter.next()\n",
    "\n",
    "# show images of the batch size\n",
    "imshow(torchvision.utils.make_grid(images))"
   ]
  },
  {
   "cell_type": "code",
   "execution_count": null,
   "metadata": {
    "colab": {
     "base_uri": "https://localhost:8080/"
    },
    "id": "TxpGB3sza7b4",
    "outputId": "7f4783b0-08ff-493d-a3ff-10cf4a2efce5"
   },
   "outputs": [
    {
     "name": "stdout",
     "output_type": "stream",
     "text": [
      "Single batch shape:  torch.Size([25, 3, 140, 140])\n",
      "\n",
      "Output label tensors and Size:  tensor([0, 1, 1, 1, 0, 0, 1, 1, 0, 0, 0, 0, 1, 1, 0, 1, 0, 0, 0, 0, 0, 0, 1, 1,\n",
      "        0]) torch.Size([25])\n"
     ]
    }
   ],
   "source": [
    "single_batch = next(iter(train_loader))\n",
    "print(\"Single batch shape: \", single_batch[0].shape)\n",
    "print(\"\\nOutput label tensors and Size: \", single_batch[1],single_batch[1].shape)"
   ]
  },
  {
   "cell_type": "markdown",
   "metadata": {
    "id": "WUlVp8I4buMD"
   },
   "source": [
    "**3. Modeling with various Neural networks architectures**\n",
    "1. basic architecure with more/less channels and  Resnet architecture\n",
    "2. Hyperparameter tuning with K fold get best learning rate for each loss (crossEntropy and cosine loss) \n",
    "3. Comparison of AUC from using cosine vs crossentropy loss with optimized hyperparameters. Overall try to obtain highest AUC on test set\n",
    "\n"
   ]
  },
  {
   "cell_type": "markdown",
   "metadata": {
    "id": "YfoMWiqmuXwF"
   },
   "source": [
    "3.1 Training functions\n",
    "  - cos los\n",
    "  - standard"
   ]
  },
  {
   "cell_type": "code",
   "execution_count": null,
   "metadata": {
    "colab": {
     "base_uri": "https://localhost:8080/"
    },
    "id": "yG_GH4yAGXdU",
    "outputId": "7c502ede-d909-4b51-9447-cba80e827408"
   },
   "outputs": [
    {
     "data": {
      "text/plain": [
       "device(type='cuda', index=0)"
      ]
     },
     "execution_count": 13,
     "metadata": {
      "tags": []
     },
     "output_type": "execute_result"
    }
   ],
   "source": [
    "## checking if cuda is avaiable\n",
    "device = torch.device('cuda:0' if torch.cuda.is_available() else 'cpu')\n",
    "device"
   ]
  },
  {
   "cell_type": "code",
   "execution_count": null,
   "metadata": {
    "id": "EWgPPv591pxm"
   },
   "outputs": [],
   "source": [
    "# stadard training\n",
    "def training_loop(num_epochs,optimizer,model,loss_fn,train_loader):\n",
    "  for epoch in range(1,num_epochs+1):\n",
    "    loss_train=0\n",
    "    for imgs, labels in train_loader:\n",
    "      imgs=imgs.to(device=device)\n",
    "      labels=labels.to(device=device)\n",
    "      outputs=model(imgs)\n",
    "      loss=loss_fn(outputs,labels)\n",
    "      optimizer.zero_grad()\n",
    "      loss.backward() # backward pass\n",
    "      optimizer.step() # update model\n",
    "      loss_train+=loss.item() ## sum losses over the epoch\n",
    "    if epoch==1 or epoch %5==0:\n",
    "      print('Epoch {} Training loss {}'.format(epoch,loss_train/len(train_loader)))## average loss per batch "
   ]
  },
  {
   "cell_type": "code",
   "execution_count": null,
   "metadata": {
    "id": "J0m0ANWam2Cs"
   },
   "outputs": [],
   "source": [
    "def training_loop_Cos(num_epochs,optimizer,model,loss_fn,train_loader):\n",
    "  for epoch in range(1,num_epochs+1):\n",
    "    loss_train=0\n",
    "    for imgs, labels in train_loader:\n",
    "      labels=torch.tensor(np.where(labels==1,1,-1))\n",
    "      imgs=imgs.to(device=device)\n",
    "      labels=labels.to(device=device)\n",
    "      outputs=model(imgs)\n",
    "      loss=loss_fn(outputs[:,1], labels)\n",
    "      loss=1-loss\n",
    "      optimizer.zero_grad()\n",
    "      loss.backward() # backward pass\n",
    "      optimizer.step() # update model\n",
    "      loss_train+=loss.item() ## sum losses over the epoch\n",
    "    if epoch==1 or epoch %5==0:\n",
    "      print('Epoch {} Training loss {}'.format(epoch,loss_train/len(train_loader)))## average loss per batch "
   ]
  },
  {
   "cell_type": "markdown",
   "metadata": {
    "id": "IUG2zoV9uPzB"
   },
   "source": [
    "3.2 Performance Metrics\n",
    "  - Accuracy\n",
    "  - AUC"
   ]
  },
  {
   "cell_type": "code",
   "execution_count": null,
   "metadata": {
    "id": "HUWUdZ8tcMZ4"
   },
   "outputs": [],
   "source": [
    "## returns accuracy for any model that is made \n",
    "def get_accuracy(model,train_loader,test_loader):\n",
    "  torch.manual_seed(1)\n",
    "  train_test = []\n",
    "  for name,loader in [('train',train_loader), (\"test\",test_loader)]:\n",
    "    correct=0\n",
    "    total=0\n",
    "    with torch.no_grad():\n",
    "      for imgs,labels in loader:\n",
    "        imgs=imgs.to(device=device)\n",
    "        labels=labels.to(device=device)\n",
    "        outputs=model(imgs)## getting the outputs returns 2 values per image reprensenting raw logits\n",
    "        _,predicted=torch.max(outputs,dim=1) ## getting the prediction returns shape 25 tensor for 0 or 1 _ returns value of ouputs\n",
    "        total+=labels.shape[0]##tallying the total number of possible predictions\n",
    "        correct+=int((predicted==labels).sum()) ## outputs[:,1] is how to access probality of being covid\n",
    "    print(\"Accuracy {}: {:.2f}\".format(name,correct/total))\n",
    "    train_test.append(correct/total)\n",
    "  return train_test\n",
    "\n",
    "## returns training AUC score\n",
    "def get_train_auc(model,train_loader):\n",
    "    torch.manual_seed(1)\n",
    "    prob_class=[] ## for storing predicted probablities\n",
    "    Actual_Class=[]# for storing the actual class\n",
    "    for name,loader in [('train',train_loader)]:\n",
    "      with torch.no_grad():\n",
    "        for imgs,labels in loader:\n",
    "          imgs=imgs.to(device=device)\n",
    "          labels=labels.to(device=device)\n",
    "          outputs=model(imgs)## getting the outputs returns 2 values per image reprensenting raw logits\n",
    "          outputs=F.softmax(outputs,dim=1) ## converting to probalities for AUC\n",
    "          _,predicted=torch.max(outputs,dim=1) ## getting the prediction returns shape 25 tensor for 0 or 1 _ returns value of ouputs\n",
    "          outputs=outputs.cpu().numpy()\n",
    "          labels=labels.cpu().numpy()\n",
    "          prob_class.append(outputs[:,1]) # probabilities \n",
    "          Actual_Class.append(labels) # actual predictions\n",
    "    auc_score=roc_auc_score(np.concatenate(Actual_Class,axis=None),np.concatenate(prob_class,axis=None))\n",
    "    print(\"AUC train {}\".format(auc_score)) \n",
    "    return auc_score\n",
    "\n",
    "## returns testing AUC for any model made\n",
    "def get_test_auc(model,test_loader):\n",
    "    torch.manual_seed(1)\n",
    "    prob_class=[] ## for storing predicted probablities\n",
    "    Actual_Class=[]# for storing the actual class\n",
    "    for name,loader in [('test',test_loader)]:\n",
    "      with torch.no_grad():\n",
    "        for imgs,labels in loader:\n",
    "          imgs=imgs.to(device=device)\n",
    "          labels=labels.to(device=device)\n",
    "          outputs=model(imgs)## getting the outputs returns 2 values per image reprensenting raw logits\n",
    "          outputs=F.softmax(outputs,dim=1) ## converting to probalities for AUC\n",
    "          _,predicted=torch.max(outputs,dim=1) ## getting the prediction returns shape 25 tensor for 0 or 1 _ returns value of ouputs\n",
    "          outputs=outputs.cpu().numpy()\n",
    "          labels=labels.cpu().numpy()\n",
    "          prob_class.append(outputs[:,1]) # probabilities \n",
    "          Actual_Class.append(labels) # actual predictions\n",
    "    auc_score=roc_auc_score(np.concatenate(Actual_Class,axis=None),np.concatenate(prob_class,axis=None))\n",
    "    print(\"AUC test {}\".format(auc_score)) \n",
    "    return auc_score\n",
    "\n",
    "## returns probabilties assigned per test sample for any model made and plots them\n",
    "def get_test_ProbaPlot(model,test_loader):\n",
    "    torch.manual_seed(1)\n",
    "    prob_class=[] ## for storing predicted probablities\n",
    "    Actual_Class=[]# for storing the actual class\n",
    "    for name,loader in [('test',test_loader)]:\n",
    "      with torch.no_grad():\n",
    "        for imgs,labels in loader:\n",
    "          imgs=imgs.to(device=device)\n",
    "          labels=labels.to(device=device)\n",
    "          outputs=model(imgs)## getting the outputs returns 2 values per image reprensenting raw logits\n",
    "          outputs=F.softmax(outputs,dim=1) ## converting to probalities for AUC\n",
    "          _,predicted=torch.max(outputs,dim=1) ## getting the prediction returns shape 25 tensor for 0 or 1 _ returns value of ouputs\n",
    "          outputs=outputs.cpu().numpy()\n",
    "          labels=labels.cpu().numpy()\n",
    "          prob_class.append(outputs[:,1]) # probabilities \n",
    "          Actual_Class.append(labels) # actual predictions\n",
    "    actual=np.concatenate((Actual_Class),axis=None)\n",
    "    prob=np.concatenate((prob_class),axis=None)\n",
    "    auc_score=roc_auc_score(actual,prob)\n",
    "    plt.figure(figsize=(16,4))\n",
    "    label=['Covid','Not Covid']\n",
    "    plt.scatter(prob,np.zeros(len(actual)),c=actual,alpha=.6,s=100)\n",
    "    plt.axvline(.5,c='black',linestyle='dashed')\n",
    "    plt.xlabel(\"Probability\")\n",
    "    plt.title(\"AUC=%.2f\" %auc_score)     \n",
    "\n",
    "## gets accuracy at any threshold, where threshold is the prob. cutoff for classifying an image covid\n",
    "def get_accuracy_threshold(model,train_loader,test_loader,threshold):\n",
    "  torch.manual_seed(1)\n",
    "  train_test = []\n",
    "  for name,loader in [('train',train_loader), (\"test\",test_loader)]:\n",
    "    correct=0\n",
    "    total=0\n",
    "    with torch.no_grad():\n",
    "      for imgs,labels in loader:\n",
    "        imgs=imgs.to(device=device)\n",
    "        labels=labels.to(device=device)\n",
    "        outputs=model(imgs)## getting the outputs returns 2 values per image reprensenting raw logits\n",
    "        outputs=F.softmax(outputs,dim=1)\n",
    "        predicted=torch.where(outputs[:,1]>threshold,1,0)\n",
    "        total+=labels.shape[0]##tallying the total number of possible predictions\n",
    "        correct+=int((predicted==labels).sum()) ## outputs[:,1] is how to access probality of being covid\n",
    "    print(\"Accuracy {}: {:.2f}\".format(name,correct/total))\n",
    "    train_test.append(correct/total)\n",
    "  return train_test "
   ]
  },
  {
   "cell_type": "markdown",
   "metadata": {
    "id": "pB378UUFujFG"
   },
   "source": [
    "3.3 Architecture \n",
    "  - Simple archtecture \n",
    "  - Resnet \n"
   ]
  },
  {
   "cell_type": "code",
   "execution_count": null,
   "metadata": {
    "id": "UKeV-7058LE6"
   },
   "outputs": [],
   "source": [
    "## the point of this one is to adjust n_chans1 to see if it can compensate for being simple by increasing n_chans1\n",
    "class BasicNetV2(nn.Module):\n",
    "  def __init__(self,n_chans1=32):\n",
    "    super().__init__()\n",
    "    self.n_chans1=n_chans1\n",
    "    self.conv1=nn.Conv2d(3,n_chans1,kernel_size=3,padding=1)\n",
    "    self.conv2=nn.Conv2d(n_chans1,n_chans1//2,kernel_size=3,padding=1)\n",
    "    self.fc1=nn.Linear((n_chans1//2)*35*35,32) ## must be 16*35*35\n",
    "    self.fc2=nn.Linear(32,2) \n",
    "  def forward(self,x):\n",
    "    out=F.max_pool2d(torch.relu(self.conv1(x)),2)\n",
    "    out=F.max_pool2d(torch.relu(self.conv2(out)),2)\n",
    "    out=out.view(-1,(self.n_chans1//2)*35*35)\n",
    "    out=torch.relu(self.fc1(out))\n",
    "    out=self.fc2(out)\n",
    "    return out"
   ]
  },
  {
   "cell_type": "code",
   "execution_count": null,
   "metadata": {
    "id": "RF5g4NF6e3sL"
   },
   "outputs": [],
   "source": [
    "class ResBlock(nn.Module):\n",
    "  def __init__(self, n_chans):\n",
    "    super(ResBlock, self).__init__()\n",
    "    self.conv = nn.Conv2d(n_chans, n_chans, kernel_size=3,padding=1, bias=False)\n",
    "    self.batch_norm = nn.BatchNorm2d(num_features=n_chans)\n",
    "    torch.nn.init.kaiming_normal_(self.conv.weight,nonlinearity='relu')\n",
    "    torch.nn.init.constant_(self.batch_norm.weight, 0.5)\n",
    "    torch.nn.init.zeros_(self.batch_norm.bias)\n",
    "  def forward(self, x):\n",
    "    out = self.conv(x)\n",
    "    out = self.batch_norm(out)\n",
    "    out = torch.relu(out)\n",
    "    return out + x\n",
    "\n",
    "class ResNet(nn.Module):\n",
    "  def __init__(self, n_chans1=32, n_blocks=8):\n",
    "    super().__init__()\n",
    "    self.n_chans1 = n_chans1\n",
    "    self.conv1 = nn.Conv2d(3, n_chans1, kernel_size=3, padding=1)\n",
    "    self.resblocks = nn.Sequential(*(n_blocks * [ResBlock(n_chans=n_chans1)]))\n",
    "    self.fc1 = nn.Linear(35 * 35 * n_chans1, 32)\n",
    "    self.fc2 = nn.Linear(32, 2)\n",
    "  def forward(self, x):\n",
    "    out = F.max_pool2d(torch.relu(self.conv1(x)), 2)\n",
    "    out = self.resblocks(out)\n",
    "    out = F.max_pool2d(out, 2)\n",
    "    out = out.view(-1,35*35* self.n_chans1)\n",
    "    out = torch.relu(self.fc1(out))\n",
    "    out = self.fc2(out)\n",
    "    return out"
   ]
  },
  {
   "cell_type": "markdown",
   "metadata": {
    "id": "MQYV1n9STYKI"
   },
   "source": [
    "3.4 Model Evaluation \n",
    "- Kfold to find optimal learning rate for each loss on each Architecture\n",
    "- Performance on test set"
   ]
  },
  {
   "cell_type": "code",
   "execution_count": null,
   "metadata": {
    "id": "hqapk61TatFF"
   },
   "outputs": [],
   "source": [
    "def BasicNetcv(nsplits,lrRate,loss_function,epochs):\n",
    "  '''\n",
    "  performs k fold for the basic net architecture\n",
    "  lrRate- input a list of learning rates to try\n",
    "  nsplits= number of K fold to do( 3 fold...)\n",
    "  loss function- either 'CrossEntropy' or 'Cosine'\n",
    "  epochs-num epochs to use on the training folds\n",
    "  \n",
    "  Outputs: AUC of the test folds (Mean, sd, and learning rate used)\n",
    "    '''\n",
    "  Net=BasicNetV2(32).to(device=device)\n",
    "  AUC=[]\n",
    "  ## K fold splitting the training dataframe made previously\n",
    "  for trainidx,testidx in KFold(nsplits).split(train):\n",
    "    dat_train = train.iloc[trainidx]\n",
    "    dat_test=train.iloc[testidx]\n",
    "    # converting it to the pytroch data performing usual operations into data loader\n",
    "    dat_train=CTData(dat_train,train_transform)\n",
    "    dat_test=CTData(dat_test,test_transform)\n",
    "    train_loadercv = DataLoader(dataset = dat_train, batch_size = 20, shuffle=True)\n",
    "    test_loadercv = DataLoader(dataset = dat_test, batch_size = 20)\n",
    "    ## now getting model \n",
    "    optimizer = torch.optim.Adam(Net.parameters(),lr=lrRate)\n",
    "    ## running training loop \n",
    "    if loss_function == 'CrossEntropy':\n",
    "      training_loop(num_epochs=epochs,optimizer=optimizer,model=Net,loss_fn=nn.CrossEntropyLoss(),train_loader=train_loadercv)\n",
    "\n",
    "    else:\n",
    "      training_loop_Cos(num_epochs=epochs,optimizer=optimizer,model=Net,loss_fn=nn.CosineSimilarity(dim=0),train_loader=train_loadercv)\n",
    "\n",
    "    AUC.append(get_test_auc(Net,test_loadercv))\n",
    "    Net=BasicNetV2(32).to(device=device)\n",
    "  return np.mean(AUC),np.std(AUC),lrRate\n",
    "    "
   ]
  },
  {
   "cell_type": "code",
   "execution_count": null,
   "metadata": {
    "colab": {
     "base_uri": "https://localhost:8080/"
    },
    "id": "dG3m_WHw3n55",
    "outputId": "7a74a544-dae8-4d6b-eb4a-d41eba2133f5"
   },
   "outputs": [
    {
     "name": "stdout",
     "output_type": "stream",
     "text": [
      "Epoch 1 Training loss 0.6813101232051849\n",
      "Epoch 5 Training loss 0.37674614787101746\n",
      "Epoch 10 Training loss 0.2645889103412628\n",
      "Epoch 15 Training loss 0.16374749839305877\n",
      "Epoch 20 Training loss 0.10340170562267303\n",
      "Epoch 25 Training loss 0.07014037072658538\n",
      "Epoch 30 Training loss 0.05090450644493103\n",
      "Epoch 35 Training loss 0.04090265929698944\n",
      "Epoch 40 Training loss 0.02696477174758911\n",
      "Epoch 45 Training loss 0.021825885772705077\n",
      "Epoch 50 Training loss 0.031081891059875487\n",
      "Epoch 55 Training loss 0.025787052512168885\n",
      "Epoch 60 Training loss 0.021413528919219972\n",
      "AUC test 0.8863636363636364\n",
      "Epoch 1 Training loss 0.9914740562438965\n",
      "Epoch 5 Training loss 0.5171169012784957\n",
      "Epoch 10 Training loss 0.40660074949264524\n",
      "Epoch 15 Training loss 0.3224317729473114\n",
      "Epoch 20 Training loss 0.23591980636119841\n",
      "Epoch 25 Training loss 0.24774944186210632\n",
      "Epoch 30 Training loss 0.20101273357868193\n",
      "Epoch 35 Training loss 0.17580171525478364\n",
      "Epoch 40 Training loss 0.15928685665130615\n",
      "Epoch 45 Training loss 0.1194516122341156\n",
      "Epoch 50 Training loss 0.10376304686069489\n",
      "Epoch 55 Training loss 0.08685250580310822\n",
      "Epoch 60 Training loss 0.08479699492454529\n",
      "AUC test 0.9318181818181818\n",
      "Epoch 1 Training loss 0.8272972851991653\n",
      "Epoch 5 Training loss 0.46709375977516177\n",
      "Epoch 10 Training loss 0.38419046998023987\n",
      "Epoch 15 Training loss 0.30384654700756075\n",
      "Epoch 20 Training loss 0.2565439701080322\n",
      "Epoch 25 Training loss 0.20449333190917968\n",
      "Epoch 30 Training loss 0.16250477731227875\n",
      "Epoch 35 Training loss 0.1462651252746582\n",
      "Epoch 40 Training loss 0.10181973874568939\n",
      "Epoch 45 Training loss 0.09382413327693939\n",
      "Epoch 50 Training loss 0.0578672856092453\n",
      "Epoch 55 Training loss 0.05011644661426544\n",
      "Epoch 60 Training loss 0.04250163435935974\n",
      "AUC test 0.7875\n"
     ]
    },
    {
     "data": {
      "text/plain": [
       "(0.868560606060606, 0.06024751899071256, 0.001)"
      ]
     },
     "execution_count": 116,
     "metadata": {
      "tags": []
     },
     "output_type": "execute_result"
    }
   ],
   "source": [
    "BasicNetcv(3,1e-3,'Cosine',60) "
   ]
  },
  {
   "cell_type": "code",
   "execution_count": null,
   "metadata": {
    "colab": {
     "base_uri": "https://localhost:8080/"
    },
    "id": "M7c-_TJvhBbU",
    "outputId": "8c0eaf8b-ec53-462f-9da0-29cdb58c669d"
   },
   "outputs": [
    {
     "name": "stdout",
     "output_type": "stream",
     "text": [
      "Epoch 1 Training loss 0.912425530453523\n",
      "Epoch 5 Training loss 0.5356741473078728\n",
      "Epoch 10 Training loss 0.29253437618414563\n",
      "Epoch 15 Training loss 0.19414919366439184\n",
      "Epoch 20 Training loss 0.17363333453734717\n",
      "Epoch 25 Training loss 0.12269434084494908\n",
      "Epoch 30 Training loss 0.08933461457490921\n",
      "Epoch 35 Training loss 0.09910086790720622\n",
      "Epoch 40 Training loss 0.05240168422460556\n",
      "Epoch 45 Training loss 0.04660186171531677\n",
      "Epoch 50 Training loss 0.03560815006494522\n",
      "Epoch 55 Training loss 0.03186079363028208\n",
      "Epoch 60 Training loss 0.031402505934238434\n",
      "Epoch 65 Training loss 0.032779778043429054\n",
      "Epoch 70 Training loss 0.024151782194773357\n",
      "Epoch 75 Training loss 0.0205769216020902\n",
      "Epoch 80 Training loss 0.021196347971757252\n",
      "Epoch 85 Training loss 0.024015463888645172\n",
      "Epoch 90 Training loss 0.020484164357185364\n",
      "Epoch 95 Training loss 0.02411479502916336\n",
      "Epoch 100 Training loss 0.0174062376221021\n"
     ]
    }
   ],
   "source": [
    "## cosine loss\n",
    "## now retraining on all the training data\n",
    "BasicNetV2=BasicNetV2(32).to(device=device)\n",
    "optimizer = torch.optim.Adam(BasicNetV2.parameters(),lr=1e-3)\n",
    "training_loop_Cos(num_epochs=110,optimizer=optimizer,model=BasicNetV2,loss_fn=nn.CosineSimilarity(dim=0),train_loader=train_loader)"
   ]
  },
  {
   "cell_type": "code",
   "execution_count": null,
   "metadata": {
    "colab": {
     "base_uri": "https://localhost:8080/",
     "height": 295
    },
    "id": "nf52L3L4LWMg",
    "outputId": "fbcb0c14-5f4c-435d-84d6-41ea20aee206"
   },
   "outputs": [
    {
     "data": {
      "image/png": "[encoded data removed]",
      "text/plain": [
       "<Figure size 1152x288 with 1 Axes>"
      ]
     },
     "metadata": {
      "needs_background": "light",
      "tags": []
     },
     "output_type": "display_data"
    }
   ],
   "source": [
    "get_test_ProbaPlot(BasicNetV2,test_loader) ## cosine loss, yellow are covid images purple are not"
   ]
  },
  {
   "cell_type": "code",
   "execution_count": null,
   "metadata": {
    "id": "XKqb4zaVaumh"
   },
   "outputs": [],
   "source": [
    "axis_labels = []#Set up these lists to add the results to, from here if one of the final performance blocks is ran multiple times it will show up in the table that many times\n",
    "train_acc = []\n",
    "test_acc = []\n",
    "train_auc = []\n",
    "test_auc = []"
   ]
  },
  {
   "cell_type": "code",
   "execution_count": null,
   "metadata": {
    "colab": {
     "base_uri": "https://localhost:8080/"
    },
    "id": "HFK04rbdSifY",
    "outputId": "68b97a35-c629-4d92-c778-49557cff49a1"
   },
   "outputs": [
    {
     "name": "stdout",
     "output_type": "stream",
     "text": [
      "Accuracy train: 0.99\n",
      "Accuracy test: 0.77\n",
      "AUC train 0.9999321596960754\n",
      "AUC test 0.9073214285714286\n"
     ]
    }
   ],
   "source": [
    "## basicnet performance with cosine on test data set\n",
    "axis_labels.append(\"BasicNetV2 (Cosine)\")\n",
    "\n",
    "acc = get_accuracy(BasicNetV2,train_loader,test_loader)  \n",
    "train_auc.append(get_train_auc(BasicNetV2,train_loader))\n",
    "test_auc.append(get_test_auc(BasicNetV2,test_loader)) \n",
    "\n",
    "train_acc.append(acc[0])\n",
    "test_acc.append(acc[1])\n"
   ]
  },
  {
   "cell_type": "code",
   "execution_count": null,
   "metadata": {
    "colab": {
     "base_uri": "https://localhost:8080/"
    },
    "id": "Gy6D5zgvjZY_",
    "outputId": "fb9335bc-2baf-499c-b0ca-048258091f21"
   },
   "outputs": [
    {
     "name": "stdout",
     "output_type": "stream",
     "text": [
      "Epoch 1 Training loss 0.7219524621963501\n",
      "Epoch 5 Training loss 0.5951183527708054\n",
      "Epoch 10 Training loss 0.47017144560813906\n",
      "Epoch 15 Training loss 0.3466403163969517\n",
      "Epoch 20 Training loss 0.23125202357769012\n",
      "Epoch 25 Training loss 0.20363150388002396\n",
      "Epoch 30 Training loss 0.1778279879130423\n",
      "Epoch 35 Training loss 0.14833996761590243\n",
      "Epoch 40 Training loss 0.09404614735394716\n",
      "Epoch 45 Training loss 0.08473387298872695\n",
      "Epoch 50 Training loss 0.0826692492235452\n",
      "Epoch 55 Training loss 0.08271667056251317\n",
      "Epoch 60 Training loss 0.07764529946725815\n",
      "Epoch 65 Training loss 0.044869605160783976\n",
      "Epoch 70 Training loss 0.03602506220340729\n",
      "Epoch 75 Training loss 0.05200032871216535\n",
      "Epoch 80 Training loss 0.023843600483087358\n",
      "Epoch 85 Training loss 0.02703725685423706\n",
      "Epoch 90 Training loss 0.025937112752581017\n",
      "Epoch 95 Training loss 0.038386420428287236\n",
      "Epoch 100 Training loss 0.034378133535210506\n",
      "Epoch 105 Training loss 0.05528109130973462\n",
      "Epoch 110 Training loss 0.05587695179856382\n",
      "Epoch 115 Training loss 0.07682961556129157\n",
      "Epoch 120 Training loss 0.02767890857066959\n",
      "AUC test 0.8496977277465082\n",
      "Epoch 1 Training loss 0.6869393348693847\n",
      "Epoch 5 Training loss 0.5367264166474343\n",
      "Epoch 10 Training loss 0.39308439269661904\n",
      "Epoch 15 Training loss 0.30542362555861474\n",
      "Epoch 20 Training loss 0.25463507771492006\n",
      "Epoch 25 Training loss 0.12154770847409964\n",
      "Epoch 30 Training loss 0.07211830532178283\n",
      "Epoch 35 Training loss 0.10568656693212689\n",
      "Epoch 40 Training loss 0.0791399645851925\n",
      "Epoch 45 Training loss 0.04893783526495099\n",
      "Epoch 50 Training loss 0.05195176870329306\n",
      "Epoch 55 Training loss 0.03159154602326453\n",
      "Epoch 60 Training loss 0.049839417787734416\n",
      "Epoch 65 Training loss 0.03630633517750539\n",
      "Epoch 70 Training loss 0.034821786370594056\n",
      "Epoch 75 Training loss 0.02527312751626596\n",
      "Epoch 80 Training loss 0.013295029586879536\n",
      "Epoch 85 Training loss 0.05493223158991896\n",
      "Epoch 90 Training loss 0.06253105876385234\n",
      "Epoch 95 Training loss 0.03308840922472882\n",
      "Epoch 100 Training loss 0.034673755518451796\n",
      "Epoch 105 Training loss 0.01668230825162027\n",
      "Epoch 110 Training loss 0.019156697823200376\n",
      "Epoch 115 Training loss 0.0075453038585692415\n",
      "Epoch 120 Training loss 0.0631390048598405\n",
      "AUC test 0.8584599797365754\n",
      "Epoch 1 Training loss 0.708475598692894\n",
      "Epoch 5 Training loss 0.5762277707457543\n",
      "Epoch 10 Training loss 0.439828222990036\n",
      "Epoch 15 Training loss 0.38325832337141036\n",
      "Epoch 20 Training loss 0.32097817659378053\n",
      "Epoch 25 Training loss 0.265142922103405\n",
      "Epoch 30 Training loss 0.20789866633713244\n",
      "Epoch 35 Training loss 0.1545372786000371\n",
      "Epoch 40 Training loss 0.12857903665862977\n",
      "Epoch 45 Training loss 0.12030998952686786\n",
      "Epoch 50 Training loss 0.09831934506073595\n",
      "Epoch 55 Training loss 0.07773390682414175\n",
      "Epoch 60 Training loss 0.08384076110087335\n",
      "Epoch 65 Training loss 0.05931041100993752\n",
      "Epoch 70 Training loss 0.030881452723406255\n",
      "Epoch 75 Training loss 0.03522892221808434\n",
      "Epoch 80 Training loss 0.06589379450306296\n",
      "Epoch 85 Training loss 0.035080433217808606\n",
      "Epoch 90 Training loss 0.02418138318171259\n",
      "Epoch 95 Training loss 0.015565749522647821\n",
      "Epoch 100 Training loss 0.023697611544048414\n",
      "Epoch 105 Training loss 0.015214834237121977\n",
      "Epoch 110 Training loss 0.018895658461406128\n",
      "Epoch 115 Training loss 0.015251460927538573\n",
      "Epoch 120 Training loss 0.01702189284110318\n",
      "AUC test 0.8449667858967808\n"
     ]
    },
    {
     "data": {
      "text/plain": [
       "(0.8510414977932882, 0.005589922984176387, 0.001)"
      ]
     },
     "execution_count": 161,
     "metadata": {
      "tags": []
     },
     "output_type": "execute_result"
    }
   ],
   "source": [
    "BasicNetcv(3,1e-3,'CrossEntropy',120) "
   ]
  },
  {
   "cell_type": "code",
   "execution_count": null,
   "metadata": {
    "colab": {
     "base_uri": "https://localhost:8080/"
    },
    "id": "jPrP8yMgSXig",
    "outputId": "c32f3880-fdf5-4871-b5cc-38dfba9e4a7a"
   },
   "outputs": [
    {
     "name": "stdout",
     "output_type": "stream",
     "text": [
      "Epoch 1 Training loss 0.731726236641407\n",
      "Epoch 5 Training loss 0.5131423150499662\n",
      "Epoch 10 Training loss 0.41740502417087555\n",
      "Epoch 15 Training loss 0.39272057948013145\n",
      "Epoch 20 Training loss 0.2731342116991679\n",
      "Epoch 25 Training loss 0.2726527014747262\n",
      "Epoch 30 Training loss 0.20613632692644993\n",
      "Epoch 35 Training loss 0.19949358701705933\n",
      "Epoch 40 Training loss 0.14152619250429174\n",
      "Epoch 45 Training loss 0.12697576661594212\n",
      "Epoch 50 Training loss 0.1376746875078728\n",
      "Epoch 55 Training loss 0.09022611984983087\n",
      "Epoch 60 Training loss 0.1319762479591494\n",
      "Epoch 65 Training loss 0.07868267650095125\n",
      "Epoch 70 Training loss 0.07415606514162694\n",
      "Epoch 75 Training loss 0.06526968500111252\n",
      "Epoch 80 Training loss 0.0649707675523435\n",
      "Epoch 85 Training loss 0.05246164343164613\n",
      "Epoch 90 Training loss 0.04592941187244529\n",
      "Epoch 95 Training loss 0.06930505204945803\n",
      "Epoch 100 Training loss 0.03581830480349405\n"
     ]
    }
   ],
   "source": [
    "## now with cross entropy loss \n",
    "## retraining the network to all the training data \n",
    "BasicNetV2=BasicNetV2(32).to(device=device)\n",
    "optimizer = torch.optim.Adam(BasicNetV2.parameters(),lr=1e-3)\n",
    "training_loop(num_epochs=110,optimizer=optimizer,model=BasicNetV2,loss_fn=nn.CrossEntropyLoss(),train_loader=train_loader)"
   ]
  },
  {
   "cell_type": "code",
   "execution_count": null,
   "metadata": {
    "colab": {
     "base_uri": "https://localhost:8080/"
    },
    "id": "cvkV-ojKjhRN",
    "outputId": "af098833-50e5-4972-ae60-0c7c11df9ed4"
   },
   "outputs": [
    {
     "name": "stdout",
     "output_type": "stream",
     "text": [
      "Accuracy train: 0.97\n",
      "Accuracy test: 0.70\n",
      "AUC train 0.9989258618545277\n",
      "AUC test 0.8527678571428572\n"
     ]
    }
   ],
   "source": [
    "axis_labels.append(\"BasicNetV2 (Cross Entropy)\")\n",
    "## basicnet performance with cross entropy on test data set # their is also high variation in our test sets from random splits\n",
    "acc = get_accuracy(BasicNetV2,train_loader,test_loader)  \n",
    "train_auc.append(get_train_auc(BasicNetV2,train_loader))\n",
    "test_auc.append(get_test_auc(BasicNetV2,test_loader))\n",
    "\n",
    "train_acc.append(acc[0])\n",
    "test_acc.append(acc[1])"
   ]
  },
  {
   "cell_type": "code",
   "execution_count": null,
   "metadata": {
    "colab": {
     "base_uri": "https://localhost:8080/",
     "height": 295
    },
    "id": "BVXajkB1htY9",
    "outputId": "266407f3-74cd-472d-8510-46fb15f4b600"
   },
   "outputs": [
    {
     "data": {
      "image/png": "[encoded data removed]",
      "text/plain": [
       "<Figure size 1152x288 with 1 Axes>"
      ]
     },
     "metadata": {
      "needs_background": "light",
      "tags": []
     },
     "output_type": "display_data"
    }
   ],
   "source": [
    "get_test_ProbaPlot(BasicNetV2,test_loader) ## Cross Entropy"
   ]
  },
  {
   "cell_type": "code",
   "execution_count": null,
   "metadata": {
    "id": "hj-gXcg_JcvD"
   },
   "outputs": [],
   "source": [
    "def ResNetcv(nsplits,lrRate,loss_function,epochs):\n",
    "  '''\n",
    "  lrRates- input learning rate to try\n",
    "  nsplits= number of K fold to do( 3 fold...)\n",
    "  loss function- either crossentropy loss or cosine input 'CrossEntropy' or 'Cosine'\n",
    "\n",
    "  Outputs: AUC of the test folds (Mean, sd, and learning rate used)\n",
    "    '''\n",
    "  Net=ResNet(32).to(device=device)\n",
    "  AUC=[]\n",
    "  ## K fold splitting the training dataframe made previously\n",
    "  for trainidx,testidx in KFold(nsplits).split(train):\n",
    "    dat_train = train.iloc[trainidx]\n",
    "    dat_test=train.iloc[testidx]\n",
    "    # converting it to the pytroch data performing usual operations into data loader\n",
    "    dat_train=CTData(dat_train,train_transform)\n",
    "    dat_test=CTData(dat_test,test_transform)\n",
    "    train_loadercv = DataLoader(dataset = dat_train, batch_size = 20, shuffle=True)\n",
    "    test_loadercv = DataLoader(dataset = dat_test, batch_size = 20)\n",
    "    ## now getting model \n",
    "    optimizer = torch.optim.Adam(Net.parameters(),lr=lrRate)\n",
    "    ## running training loop \n",
    "    if loss_function == 'CrossEntropy':\n",
    "      training_loop(num_epochs=epochs,optimizer=optimizer,model=Net,loss_fn=nn.CrossEntropyLoss(),train_loader=train_loadercv)\n",
    "    else:\n",
    "      training_loop_Cos(num_epochs=epochs,optimizer=optimizer,model=Net,loss_fn=nn.CosineSimilarity(dim=0),train_loader=train_loadercv)\n",
    "\n",
    "\n",
    "    AUC.append(get_test_auc(Net,test_loadercv))\n",
    "    Net=ResNet(32).to(device=device)\n",
    "  return np.mean(AUC),np.std(AUC),lrRate\n",
    "    "
   ]
  },
  {
   "cell_type": "code",
   "execution_count": null,
   "metadata": {
    "colab": {
     "base_uri": "https://localhost:8080/"
    },
    "id": "k85LBU0fc3Q6",
    "outputId": "2404ef0a-059a-42ab-e21c-bd50779c05d0"
   },
   "outputs": [
    {
     "name": "stdout",
     "output_type": "stream",
     "text": [
      "Epoch 1 Training loss 0.7922096431255341\n",
      "Epoch 5 Training loss 0.4975438892841339\n",
      "Epoch 10 Training loss 0.3939098984003067\n",
      "Epoch 15 Training loss 0.48166661262512206\n",
      "Epoch 20 Training loss 0.22366078197956085\n",
      "Epoch 25 Training loss 0.18772077262401582\n",
      "Epoch 30 Training loss 0.18965404033660888\n",
      "Epoch 35 Training loss 0.12021586000919342\n",
      "Epoch 40 Training loss 0.10787091255187989\n",
      "Epoch 45 Training loss 0.06989493072032929\n",
      "Epoch 50 Training loss 0.11674108505249023\n",
      "Epoch 55 Training loss 0.08574166297912597\n",
      "Epoch 60 Training loss 0.08158464133739471\n",
      "Epoch 65 Training loss 0.06275674998760224\n",
      "Epoch 70 Training loss 0.06400251686573029\n",
      "Epoch 75 Training loss 0.06982750296592713\n",
      "Epoch 80 Training loss 0.08115456700325012\n",
      "Epoch 85 Training loss 0.04055604040622711\n",
      "Epoch 90 Training loss 0.0319129079580307\n",
      "AUC test 0.8526683343756515\n",
      "Epoch 1 Training loss 0.7493221282958984\n",
      "Epoch 5 Training loss 0.37182390689849854\n",
      "Epoch 10 Training loss 0.2962752997875214\n",
      "Epoch 15 Training loss 0.2333194673061371\n",
      "Epoch 20 Training loss 0.22288266122341155\n",
      "Epoch 25 Training loss 0.1302165389060974\n",
      "Epoch 30 Training loss 0.11212699711322785\n",
      "Epoch 35 Training loss 0.09629455208778381\n",
      "Epoch 40 Training loss 0.06947456002235412\n",
      "Epoch 45 Training loss 0.0964180588722229\n",
      "Epoch 50 Training loss 0.06452394127845765\n",
      "Epoch 55 Training loss 0.04535048902034759\n",
      "Epoch 60 Training loss 0.04242875874042511\n",
      "Epoch 65 Training loss 0.038310056924819945\n",
      "Epoch 70 Training loss 0.030272018909454346\n",
      "Epoch 75 Training loss 0.04675701856613159\n",
      "Epoch 80 Training loss 0.028378909826278685\n",
      "Epoch 85 Training loss 0.031479576230049135\n",
      "Epoch 90 Training loss 0.02253310978412628\n",
      "AUC test 0.8040526849037487\n",
      "Epoch 1 Training loss 0.7348996013402939\n",
      "Epoch 5 Training loss 0.41248334348201754\n",
      "Epoch 10 Training loss 0.35684578120708466\n",
      "Epoch 15 Training loss 0.24775979816913604\n",
      "Epoch 20 Training loss 0.23738590776920318\n",
      "Epoch 25 Training loss 0.15162914395332336\n",
      "Epoch 30 Training loss 0.12080340981483459\n",
      "Epoch 35 Training loss 0.1490054577589035\n",
      "Epoch 40 Training loss 0.10240353643894196\n",
      "Epoch 45 Training loss 0.099133962392807\n",
      "Epoch 50 Training loss 0.07952317297458648\n",
      "Epoch 55 Training loss 0.060977590084075925\n",
      "Epoch 60 Training loss 0.05197001397609711\n",
      "Epoch 65 Training loss 0.04996213912963867\n",
      "Epoch 70 Training loss 0.04264656007289887\n",
      "Epoch 75 Training loss 0.038963958621025085\n",
      "Epoch 80 Training loss 0.04572526514530182\n",
      "Epoch 85 Training loss 0.04032676219940186\n",
      "Epoch 90 Training loss 0.035643038153648374\n",
      "AUC test 0.7324987225344916\n"
     ]
    },
    {
     "data": {
      "text/plain": [
       "(0.7964065806046307, 0.049356060659446914, 0.001)"
      ]
     },
     "execution_count": 172,
     "metadata": {
      "tags": []
     },
     "output_type": "execute_result"
    }
   ],
   "source": [
    "ResNetcv(3,1e-3,'Cosine',90)"
   ]
  },
  {
   "cell_type": "code",
   "execution_count": null,
   "metadata": {
    "colab": {
     "base_uri": "https://localhost:8080/"
    },
    "id": "-r2dRepjc4zV",
    "outputId": "c73ecd61-66d1-458a-c7aa-3fe9274fdfde"
   },
   "outputs": [
    {
     "name": "stdout",
     "output_type": "stream",
     "text": [
      "Epoch 1 Training loss 1.0247509156664212\n",
      "Epoch 5 Training loss 0.42343488583962124\n",
      "Epoch 10 Training loss 0.28250205268462497\n",
      "Epoch 15 Training loss 0.2478622868657112\n",
      "Epoch 20 Training loss 0.20739696671565375\n",
      "Epoch 25 Training loss 0.1611568753918012\n",
      "Epoch 30 Training loss 0.13885554174582163\n",
      "Epoch 35 Training loss 0.1265245129664739\n",
      "Epoch 40 Training loss 0.14801930636167526\n",
      "Epoch 45 Training loss 0.09252386540174484\n",
      "Epoch 50 Training loss 0.0960450991988182\n",
      "Epoch 55 Training loss 0.10997944821914037\n",
      "Epoch 60 Training loss 0.06860585014025371\n",
      "Epoch 65 Training loss 0.050727558632691704\n",
      "Epoch 70 Training loss 0.07687993099292119\n",
      "Epoch 75 Training loss 0.0722219745318095\n",
      "Epoch 80 Training loss 0.0496284564336141\n",
      "Epoch 85 Training loss 0.05525698264439901\n",
      "Epoch 90 Training loss 0.0379203533132871\n",
      "Epoch 95 Training loss 0.031617109974225364\n",
      "Epoch 100 Training loss 0.03907326112190882\n",
      "Epoch 105 Training loss 0.042694397270679474\n",
      "Epoch 110 Training loss 0.03594372421503067\n",
      "Epoch 115 Training loss 0.025621088842550915\n",
      "Epoch 120 Training loss 0.02708175281683604\n",
      "Epoch 125 Training loss 0.022012221316496532\n",
      "Epoch 130 Training loss 0.03397193799416224\n",
      "Epoch 135 Training loss 0.020839179555575054\n",
      "Epoch 140 Training loss 0.029866963624954224\n",
      "Epoch 145 Training loss 0.02936567614475886\n",
      "Epoch 150 Training loss 0.019400971631209057\n",
      "Epoch 155 Training loss 0.020210114618142445\n",
      "Epoch 160 Training loss 0.019997427860895794\n",
      "Epoch 165 Training loss 0.024250092605749767\n",
      "Epoch 170 Training loss 0.017116141815980274\n",
      "Epoch 175 Training loss 0.020563480754693348\n",
      "Epoch 180 Training loss 0.018065149585405987\n",
      "Epoch 185 Training loss 0.015775809685389202\n",
      "Epoch 190 Training loss 0.01437883327404658\n",
      "Epoch 195 Training loss 0.015795717636744182\n",
      "Epoch 200 Training loss 0.01321461796760559\n"
     ]
    }
   ],
   "source": [
    "# cosine\n",
    "Resnet=ResNet(32).to(device=device)\n",
    "optimizer = torch.optim.Adam(Resnet.parameters(),lr=1e-4)\n",
    "training_loop_Cos(num_epochs=200,optimizer=optimizer,model=Resnet,loss_fn=nn.CosineSimilarity(dim=0),train_loader=train_loader)"
   ]
  },
  {
   "cell_type": "code",
   "execution_count": null,
   "metadata": {
    "colab": {
     "base_uri": "https://localhost:8080/"
    },
    "id": "HkjAGBSGc5RU",
    "outputId": "014a23bc-50b6-43d6-8b5c-215ebfa92230"
   },
   "outputs": [
    {
     "name": "stdout",
     "output_type": "stream",
     "text": [
      "Accuracy train: 0.78\n",
      "Accuracy test: 0.65\n",
      "AUC train 0.9984962065963389\n",
      "AUC test 0.8579464285714286\n"
     ]
    }
   ],
   "source": [
    "axis_labels.append(\"Resnet (Cosine)\")\n",
    "acc = get_accuracy(Resnet,train_loader,test_loader)  \n",
    "train_auc.append(get_train_auc(Resnet,train_loader))\n",
    "test_auc.append(get_test_auc(Resnet,test_loader))\n",
    "\n",
    "train_acc.append(acc[0])\n",
    "test_acc.append(acc[1])"
   ]
  },
  {
   "cell_type": "code",
   "execution_count": null,
   "metadata": {
    "colab": {
     "base_uri": "https://localhost:8080/",
     "height": 295
    },
    "id": "ElSNDx8yplOe",
    "outputId": "3ef98786-ab61-466e-9b3f-492e47be2ee0"
   },
   "outputs": [
    {
     "data": {
      "image/png": "[encoded data removed]",
      "text/plain": [
       "<Figure size 1152x288 with 1 Axes>"
      ]
     },
     "metadata": {
      "needs_background": "light",
      "tags": []
     },
     "output_type": "display_data"
    }
   ],
   "source": [
    "get_test_ProbaPlot(Resnet,test_loader) ## interesting with this resnet the probability threshold could be moved to \n",
    "# around 90% where only images that are greater than 90% probability of covid are classified as covid and accuracy \n",
    "#would be in the 80's probably\n",
    "#(e.g by moving the dashed vertical line below to the right and saying everything left of it is not covid)"
   ]
  },
  {
   "cell_type": "code",
   "execution_count": null,
   "metadata": {
    "colab": {
     "base_uri": "https://localhost:8080/"
    },
    "id": "Rlz6srfnsSLV",
    "outputId": "27995c6a-9110-4d38-86e7-5949e58f8876"
   },
   "outputs": [
    {
     "name": "stdout",
     "output_type": "stream",
     "text": [
      "Accuracy train: 0.96\n",
      "Accuracy test: 0.79\n"
     ]
    },
    {
     "data": {
      "text/plain": [
       "[0.9580536912751678, 0.7866666666666666]"
      ]
     },
     "execution_count": 180,
     "metadata": {
      "tags": []
     },
     "output_type": "execute_result"
    }
   ],
   "source": [
    "get_accuracy_threshold(Resnet,train_loader,test_loader,.95)  ## accuracy now 79% at 95% classification threshold"
   ]
  },
  {
   "cell_type": "code",
   "execution_count": null,
   "metadata": {
    "colab": {
     "base_uri": "https://localhost:8080/"
    },
    "id": "pJ5g7J9CB6Zn",
    "outputId": "df8233f6-4efa-4898-cf65-3b8f4f9ea5d4"
   },
   "outputs": [
    {
     "name": "stdout",
     "output_type": "stream",
     "text": [
      "Epoch 1 Training loss 7.869089287519455\n",
      "Epoch 5 Training loss 1.3277872033417224\n",
      "Epoch 10 Training loss 0.6349173560738564\n",
      "Epoch 15 Training loss 0.4539338558912277\n",
      "Epoch 20 Training loss 0.6391242014244198\n",
      "Epoch 25 Training loss 0.16819297857582569\n",
      "Epoch 30 Training loss 0.29176915092393757\n",
      "Epoch 35 Training loss 0.2851317313266918\n",
      "Epoch 40 Training loss 0.1450041032396257\n",
      "Epoch 45 Training loss 0.1410496151074767\n",
      "Epoch 50 Training loss 0.08564072111621499\n",
      "Epoch 55 Training loss 0.12758588404394686\n",
      "Epoch 60 Training loss 0.2093760654097423\n",
      "Epoch 65 Training loss 0.08228274073917419\n",
      "Epoch 70 Training loss 0.1259034274960868\n",
      "Epoch 75 Training loss 0.13195043778978288\n",
      "Epoch 80 Training loss 0.05367224286310375\n",
      "AUC test 0.8829476756306024\n",
      "Epoch 1 Training loss 9.385093092918396\n",
      "Epoch 5 Training loss 0.593676307797432\n",
      "Epoch 10 Training loss 0.5108097724616527\n",
      "Epoch 15 Training loss 0.5566540241241456\n",
      "Epoch 20 Training loss 0.3127668686211109\n",
      "Epoch 25 Training loss 0.3014079533517361\n",
      "Epoch 30 Training loss 0.2295305548235774\n",
      "Epoch 35 Training loss 0.19620163766667248\n",
      "Epoch 40 Training loss 0.13401558808982372\n",
      "Epoch 45 Training loss 0.11357813822105527\n",
      "Epoch 50 Training loss 0.10342293614521622\n",
      "Epoch 55 Training loss 0.10516548708546906\n",
      "Epoch 60 Training loss 0.06101316283456981\n",
      "Epoch 65 Training loss 0.2783713933080435\n",
      "Epoch 70 Training loss 0.1145156852551736\n",
      "Epoch 75 Training loss 0.13277564831078054\n",
      "Epoch 80 Training loss 0.17658258837182075\n",
      "AUC test 0.8366261398176291\n",
      "Epoch 1 Training loss 7.0392112076282505\n",
      "Epoch 5 Training loss 0.818376437574625\n",
      "Epoch 10 Training loss 0.8438851334154606\n",
      "Epoch 15 Training loss 0.3140598490834236\n",
      "Epoch 20 Training loss 0.44443120565265415\n",
      "Epoch 25 Training loss 0.3347433142364025\n",
      "Epoch 30 Training loss 0.19744459274224938\n",
      "Epoch 35 Training loss 0.18735171654261648\n",
      "Epoch 40 Training loss 0.23119767997413873\n",
      "Epoch 45 Training loss 0.3272162807174027\n",
      "Epoch 50 Training loss 0.08101369403302669\n",
      "Epoch 55 Training loss 0.08511848826892673\n",
      "Epoch 60 Training loss 0.08000911474227905\n",
      "Epoch 65 Training loss 0.10486966038588434\n",
      "Epoch 70 Training loss 0.08498364989645779\n",
      "Epoch 75 Training loss 0.03479777013417333\n",
      "Epoch 80 Training loss 0.04440823649056256\n",
      "AUC test 0.8911599386816557\n"
     ]
    },
    {
     "data": {
      "text/plain": [
       "(0.8702445847099624, 0.024007084979772955, 0.001)"
      ]
     },
     "execution_count": 181,
     "metadata": {
      "tags": []
     },
     "output_type": "execute_result"
    }
   ],
   "source": [
    "ResNetcv(3,1e-3,'CrossEntropy',80)"
   ]
  },
  {
   "cell_type": "code",
   "execution_count": null,
   "metadata": {
    "colab": {
     "base_uri": "https://localhost:8080/"
    },
    "id": "Sms1TLgCfmDr",
    "outputId": "f5c0b068-3d02-4570-8462-8aff8eb90d73"
   },
   "outputs": [
    {
     "name": "stdout",
     "output_type": "stream",
     "text": [
      "Epoch 1 Training loss 0.9807057579358419\n",
      "Epoch 5 Training loss 0.5680966998140017\n",
      "Epoch 10 Training loss 0.5212147422134876\n",
      "Epoch 15 Training loss 0.48798155784606934\n",
      "Epoch 20 Training loss 0.4753525530298551\n",
      "Epoch 25 Training loss 0.43727894127368927\n",
      "Epoch 30 Training loss 0.41475524629155797\n",
      "Epoch 35 Training loss 0.40351665516694385\n",
      "Epoch 40 Training loss 0.39032871772845584\n",
      "Epoch 45 Training loss 0.3736030136545499\n",
      "Epoch 50 Training loss 0.3621414514879386\n",
      "Epoch 55 Training loss 0.35946650989353657\n",
      "Epoch 60 Training loss 0.3374848322321971\n",
      "Epoch 65 Training loss 0.31522713601589203\n",
      "Epoch 70 Training loss 0.3249790749202172\n",
      "Epoch 75 Training loss 0.3071015098442634\n",
      "Epoch 80 Training loss 0.2958376177897056\n",
      "Epoch 85 Training loss 0.30100200201074284\n",
      "Epoch 90 Training loss 0.3041859728594621\n",
      "Epoch 95 Training loss 0.28241981007158756\n",
      "Epoch 100 Training loss 0.27600389656921226\n",
      "Epoch 105 Training loss 0.2735399504502614\n",
      "Epoch 110 Training loss 0.2722064846505721\n",
      "Epoch 115 Training loss 0.2697983632485072\n",
      "Epoch 120 Training loss 0.2572699251274268\n",
      "Epoch 125 Training loss 0.2475460283458233\n",
      "Epoch 130 Training loss 0.26126297749578953\n",
      "Epoch 135 Training loss 0.2381696319207549\n",
      "Epoch 140 Training loss 0.25982741825282574\n",
      "Epoch 145 Training loss 0.22144517737130323\n",
      "Epoch 150 Training loss 0.22809124241272608\n",
      "Epoch 155 Training loss 0.22459218620012203\n",
      "Epoch 160 Training loss 0.2164444699883461\n",
      "Epoch 165 Training loss 0.2160862566282352\n",
      "Epoch 170 Training loss 0.22174476583798727\n",
      "Epoch 175 Training loss 0.21698706721266112\n",
      "Epoch 180 Training loss 0.21592065008978048\n",
      "Epoch 185 Training loss 0.199567049741745\n",
      "Epoch 190 Training loss 0.20056482839087644\n",
      "Epoch 195 Training loss 0.20063158683478832\n",
      "Epoch 200 Training loss 0.18616351671516895\n"
     ]
    }
   ],
   "source": [
    "## refitting resnet to all the training data \n",
    "Resnet=ResNet(32).to(device=device)\n",
    "optimizer = torch.optim.Adam(Resnet.parameters(),lr=1e-4)\n",
    "training_loop(num_epochs=200,optimizer=optimizer,model=Resnet,loss_fn=nn.CrossEntropyLoss(),train_loader=train_loader)"
   ]
  },
  {
   "cell_type": "code",
   "execution_count": null,
   "metadata": {
    "colab": {
     "base_uri": "https://localhost:8080/"
    },
    "id": "Zj8GIdDVgw-V",
    "outputId": "17e5f8b7-d0b9-45cc-c05d-0c0c6f3942c8"
   },
   "outputs": [
    {
     "name": "stdout",
     "output_type": "stream",
     "text": [
      "Accuracy train: 0.97\n",
      "Accuracy test: 0.86\n",
      "AUC train 0.9819262123627648\n",
      "AUC test 0.887142857142857\n"
     ]
    }
   ],
   "source": [
    "axis_labels.append(\"Resnet (Cross Entropy)\")\n",
    "acc = get_accuracy(Resnet,train_loader,test_loader)  \n",
    "train_auc.append(get_train_auc(Resnet,train_loader))\n",
    "test_auc.append(get_test_auc(Resnet,test_loader))\n",
    "\n",
    "train_acc.append(acc[0])\n",
    "test_acc.append(acc[1])"
   ]
  },
  {
   "cell_type": "code",
   "execution_count": null,
   "metadata": {
    "colab": {
     "base_uri": "https://localhost:8080/",
     "height": 295
    },
    "id": "2GvDh-OtzRye",
    "outputId": "3e0d2dc4-1916-4bbc-f0ca-7857be1ebe03"
   },
   "outputs": [
    {
     "data": {
      "image/png": "[encoded data removed]",
      "text/plain": [
       "<Figure size 1152x288 with 1 Axes>"
      ]
     },
     "metadata": {
      "needs_background": "light",
      "tags": []
     },
     "output_type": "display_data"
    }
   ],
   "source": [
    "get_test_ProbaPlot(Resnet,test_loader) ## odd it seems to be giving exactly 75ish% probabilitiy to alot of covid+ images"
   ]
  },
  {
   "cell_type": "code",
   "execution_count": null,
   "metadata": {
    "colab": {
     "base_uri": "https://localhost:8080/"
    },
    "id": "jtO28vsAz5V1",
    "outputId": "125da716-f24f-4327-b0d3-8f309e006219"
   },
   "outputs": [
    {
     "name": "stdout",
     "output_type": "stream",
     "text": [
      "Accuracy train: 0.97\n",
      "Accuracy test: 0.89\n"
     ]
    },
    {
     "data": {
      "text/plain": [
       "[0.9664429530201343, 0.8866666666666667]"
      ]
     },
     "execution_count": 187,
     "metadata": {
      "tags": []
     },
     "output_type": "execute_result"
    }
   ],
   "source": [
    "get_accuracy_threshold(Resnet,train_loader,test_loader,.7) "
   ]
  },
  {
   "cell_type": "code",
   "execution_count": null,
   "metadata": {
    "colab": {
     "base_uri": "https://localhost:8080/",
     "height": 393
    },
    "id": "sjYrUxAIddjR",
    "outputId": "29f37e00-d088-40f0-a40f-bbf928e599a6"
   },
   "outputs": [
    {
     "data": {
      "image/png": "[encoded data removed]",
      "text/plain": [
       "<Figure size 936x432 with 1 Axes>"
      ]
     },
     "metadata": {
      "needs_background": "light",
      "tags": []
     },
     "output_type": "display_data"
    }
   ],
   "source": [
    "N = 4\n",
    "ind = np.arange(N)\n",
    "width = 0.075\n",
    "plt.figure(figsize=(13,6))\n",
    "plt.bar(ind, train_acc, width, label='Train Acc.')\n",
    "plt.bar(ind+width, test_acc, width, label='Test Acc.')\n",
    "plt.bar(ind+2*width, train_auc, width, label='Train AUC')\n",
    "plt.bar(ind+3*width, test_auc, width, label='Test AUC')\n",
    "plt.ylabel('Performance')\n",
    "plt.ylim([0.5, 1])\n",
    "plt.title('Performance Metrics by Architecture and Loss (ACC. at 50% threhsold)')\n",
    "\n",
    "plt.xticks(ind+width/2, axis_labels)\n",
    "plt.legend(bbox_to_anchor=(1.05, 1))\n",
    "\n",
    "plt.tick_params(axis='x', which='major', labelsize=12)\n",
    "plt.show()\n",
    "\n",
    "## so by AUC basicNET cosine is the best but Resnet Cross entropy has much fewer false negatives and higher acc at 50%, so\n",
    "# perhaps it is better but odd in the way it assigns probability \n",
    "# also I set the random_state for the train test split \n",
    "# so this should be reproducable. "
   ]
  }
 ],
 "metadata": {
  "accelerator": "GPU",
  "colab": {
   "collapsed_sections": [],
   "name": "Covid CT Scans.ipynb",
   "provenance": []
  },
  "kernelspec": {
   "display_name": "Python 3",
   "language": "python",
   "name": "python3"
  },
  "language_info": {
   "codemirror_mode": {
    "name": "ipython",
    "version": 3
   },
   "file_extension": ".py",
   "mimetype": "text/x-python",
   "name": "python",
   "nbconvert_exporter": "python",
   "pygments_lexer": "ipython3",
   "version": "3.6.8"
  }
 },
 "nbformat": 4,
 "nbformat_minor": 1
}
